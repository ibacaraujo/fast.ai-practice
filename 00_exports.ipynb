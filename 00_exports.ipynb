{
  "nbformat": 4,
  "nbformat_minor": 0,
  "metadata": {
    "colab": {
      "name": "00_exports.ipynb",
      "version": "0.3.2",
      "provenance": [],
      "collapsed_sections": [],
      "include_colab_link": true
    },
    "kernelspec": {
      "name": "python3",
      "display_name": "Python 3"
    },
    "accelerator": "GPU"
  },
  "cells": [
    {
      "cell_type": "markdown",
      "metadata": {
        "id": "view-in-github",
        "colab_type": "text"
      },
      "source": [
        "<a href=\"https://colab.research.google.com/github/ibacaraujo/fast.ai-practice/blob/master/00_exports.ipynb\" target=\"_parent\"><img src=\"https://colab.research.google.com/assets/colab-badge.svg\" alt=\"Open In Colab\"/></a>"
      ]
    },
    {
      "metadata": {
        "id": "_UJL4K4l9VPQ",
        "colab_type": "code",
        "outputId": "c86a9421-988a-475c-9ade-919720a949af",
        "colab": {
          "base_uri": "https://localhost:8080/",
          "height": 107
        }
      },
      "cell_type": "code",
      "source": [
        "!curl -s https://course.fast.ai/setup/colab | bash"
      ],
      "execution_count": 0,
      "outputs": [
        {
          "output_type": "stream",
          "text": [
            "Updating fastai...\n",
            "\u001b[31mfeaturetools 0.4.1 has requirement pandas>=0.23.0, but you'll have pandas 0.22.0 which is incompatible.\u001b[0m\n",
            "\u001b[31mdatascience 0.10.6 has requirement folium==0.2.1, but you'll have folium 0.8.3 which is incompatible.\u001b[0m\n",
            "\u001b[31malbumentations 0.1.12 has requirement imgaug<0.2.7,>=0.2.5, but you'll have imgaug 0.2.8 which is incompatible.\u001b[0m\n",
            "Done.\n"
          ],
          "name": "stdout"
        }
      ]
    },
    {
      "metadata": {
        "id": "VW4JKqDX_qqt",
        "colab_type": "code",
        "outputId": "b06c36d8-1c2e-4e05-c47a-ea580dbfaa48",
        "colab": {
          "base_uri": "https://localhost:8080/",
          "height": 127
        }
      },
      "cell_type": "code",
      "source": [
        "from google.colab import drive\n",
        "drive.mount('/content/gdrive', force_remount=True)\n",
        "root_dir = \"/content/gdrive/My Drive/\"\n",
        "base_dir = root_dir + 'fastai_research/'"
      ],
      "execution_count": 0,
      "outputs": [
        {
          "output_type": "stream",
          "text": [
            "Go to this URL in a browser: https://accounts.google.com/o/oauth2/auth?client_id=947318989803-6bn6qk8qdgf4n4g3pfee6491hc0brc4i.apps.googleusercontent.com&redirect_uri=urn%3Aietf%3Awg%3Aoauth%3A2.0%3Aoob&scope=email%20https%3A%2F%2Fwww.googleapis.com%2Fauth%2Fdocs.test%20https%3A%2F%2Fwww.googleapis.com%2Fauth%2Fdrive%20https%3A%2F%2Fwww.googleapis.com%2Fauth%2Fdrive.photos.readonly%20https%3A%2F%2Fwww.googleapis.com%2Fauth%2Fpeopleapi.readonly&response_type=code\n",
            "\n",
            "Enter your authorization code:\n",
            "··········\n",
            "Mounted at /content/gdrive\n"
          ],
          "name": "stdout"
        }
      ]
    },
    {
      "metadata": {
        "id": "jdtDH4OEAMcR",
        "colab_type": "code",
        "colab": {}
      },
      "cell_type": "code",
      "source": [
        "#export\n",
        "TEST = 'test'"
      ],
      "execution_count": 0,
      "outputs": []
    },
    {
      "metadata": {
        "id": "vt3DsZ89A0v5",
        "colab_type": "text"
      },
      "cell_type": "markdown",
      "source": [
        "# Export"
      ]
    },
    {
      "metadata": {
        "id": "okeiUoNUBecC",
        "colab_type": "code",
        "outputId": "b70d8397-432f-4c5f-fbda-15efb31ff2a0",
        "colab": {
          "base_uri": "https://localhost:8080/",
          "height": 89
        }
      },
      "cell_type": "code",
      "source": [
        "!pip install fire\n",
        "%cd \"gdrive/My Drive/Colab Notebooks/fastai\"\n",
        "!ls\n",
        "!chmod 700 notebook2script.py\n",
        "!mkdir exp"
      ],
      "execution_count": 0,
      "outputs": [
        {
          "output_type": "stream",
          "text": [
            "Requirement already satisfied: fire in /usr/local/lib/python3.6/dist-packages (0.1.3)\n",
            "Requirement already satisfied: six in /usr/local/lib/python3.6/dist-packages (from fire) (1.11.0)\n",
            "/content/gdrive/My Drive/Colab Notebooks/fastai\n",
            "00_exports.ipynb  notebook2script.py\n"
          ],
          "name": "stdout"
        }
      ]
    },
    {
      "metadata": {
        "id": "IRpZYj1ZA1xZ",
        "colab_type": "code",
        "outputId": "89c49a88-f293-4bcc-c35a-d1429964199c",
        "colab": {
          "base_uri": "https://localhost:8080/",
          "height": 35
        }
      },
      "cell_type": "code",
      "source": [
        "!python notebook2script.py 00_exports.ipynb"
      ],
      "execution_count": 0,
      "outputs": [
        {
          "output_type": "stream",
          "text": [
            "Converted 00_exports.ipynb to exp/nb_00.py\n"
          ],
          "name": "stdout"
        }
      ]
    },
    {
      "metadata": {
        "id": "GLYawYfxDuHb",
        "colab_type": "text"
      },
      "cell_type": "markdown",
      "source": [
        "## How it works"
      ]
    },
    {
      "metadata": {
        "id": "41rMuzubDb6I",
        "colab_type": "code",
        "colab": {}
      },
      "cell_type": "code",
      "source": [
        "import json\n",
        "d = json.load(open('00_exports.ipynb', 'r'))['cells']"
      ],
      "execution_count": 0,
      "outputs": []
    },
    {
      "metadata": {
        "id": "QEJ8Uf7qD_b4",
        "colab_type": "code",
        "outputId": "0436d633-a7eb-4b54-a149-b26819f3f906",
        "colab": {
          "base_uri": "https://localhost:8080/",
          "height": 395
        }
      },
      "cell_type": "code",
      "source": [
        "d[0]"
      ],
      "execution_count": 0,
      "outputs": [
        {
          "output_type": "execute_result",
          "data": {
            "text/plain": [
              "{'cell_type': 'code',\n",
              " 'execution_count': 1,\n",
              " 'metadata': {'colab': {'base_uri': 'https://localhost:8080/', 'height': 107},\n",
              "  'colab_type': 'code',\n",
              "  'executionInfo': {'elapsed': 14469,\n",
              "   'status': 'ok',\n",
              "   'timestamp': 1555096816067,\n",
              "   'user': {'displayName': 'Iago Breno Araujo',\n",
              "    'photoUrl': 'https://lh6.googleusercontent.com/-K-iFTzpdZpo/AAAAAAAAAAI/AAAAAAAAAB0/-ycr3KhMm4Q/s64/photo.jpg',\n",
              "    'userId': '08705177899903470128'},\n",
              "   'user_tz': 180},\n",
              "  'id': '_UJL4K4l9VPQ',\n",
              "  'outputId': 'c86a9421-988a-475c-9ade-919720a949af'},\n",
              " 'outputs': [{'name': 'stdout',\n",
              "   'output_type': 'stream',\n",
              "   'text': ['Updating fastai...\\n',\n",
              "    \"\\x1b[31mfeaturetools 0.4.1 has requirement pandas>=0.23.0, but you'll have pandas 0.22.0 which is incompatible.\\x1b[0m\\n\",\n",
              "    \"\\x1b[31mdatascience 0.10.6 has requirement folium==0.2.1, but you'll have folium 0.8.3 which is incompatible.\\x1b[0m\\n\",\n",
              "    \"\\x1b[31malbumentations 0.1.12 has requirement imgaug<0.2.7,>=0.2.5, but you'll have imgaug 0.2.8 which is incompatible.\\x1b[0m\\n\",\n",
              "    'Done.\\n']}],\n",
              " 'source': ['!curl -s https://course.fast.ai/setup/colab | bash']}"
            ]
          },
          "metadata": {
            "tags": []
          },
          "execution_count": 20
        }
      ]
    }
  ]
}